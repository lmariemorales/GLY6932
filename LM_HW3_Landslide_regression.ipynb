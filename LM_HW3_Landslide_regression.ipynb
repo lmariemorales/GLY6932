{
  "cells": [
    {
      "cell_type": "markdown",
      "metadata": {
        "id": "view-in-github",
        "colab_type": "text"
      },
      "source": [
        "<a href=\"https://colab.research.google.com/github/lmariemorales/GLY6932/blob/main/LM_HW3_Landslide_regression.ipynb\" target=\"_parent\"><img src=\"https://colab.research.google.com/assets/colab-badge.svg\" alt=\"Open In Colab\"/></a>"
      ]
    },
    {
      "cell_type": "markdown",
      "source": [
        "# HW3: Logistic regression on landslide data\n",
        "\n",
        "The goal of this assignment is to implement logistic regression, quantify model performance, and interpret model outputs.\n",
        "\n",
        "1. Download landslide data using pandas.\n",
        "\n",
        "  The dataset can be found here: https://raw.githubusercontent.com/GatorGlaciology/Intro-to-ML-course/main/Complete-data.csv\n",
        "  \n",
        "  A 1 in the \"Landslide\" column means there has been a landslide at that location.\n",
        "  \n",
        "  Apply the PCA analysis from HW2: Normalize the data by subtracting the mean from each column and dividing by the standard deviation. Apply a PCA and determine the principal components (PCs) using the sklearn PCA fit_transform function.  [1 point]\n",
        "\n",
        "2. Determine the number of landslides and non-landslides (0s and 1s) in the data. Do we need to worry about a class imbalance? [1 point]\n",
        "3. Using sklearn train_test_split, split the first 8 PCs into training and test sets, where the test set is 20% of the data set. Make sure this is randomized. [1 point]\n",
        "4. Perform a logistic regression on the training data. [1 point]\n",
        "5. Apply regression to test set using the predict() command. [1 point]\n",
        "6. Compute the accuracy for the test set and training set. Does there appear to be overfitting? [1 point]\n",
        "7. Make a confusion matrix for the test set. When predicting landslides, which metric (accuracy, true positive, false positive, etc.) do you think is most important to minimize or optimize? Discuss. [1 point]\n",
        "8. Apply the regression to the full dataset using the predict_proba() command. This will generate two data columns: 1) the probabilities of non-landslide occurrence, and 2) the probabilities of landslide occurrence. By \"full dataset,\" I mean the first 8 PCs before they were shuffled or sorted into a training and test set. Compute and plot the correlation matrix between each of the original (non-transformed) data variables and the output probabilities. [2 points]\n",
        "9. Based on the correlation matrix, which variables seem to carry the most weight in predicting landslides? [1 point]\n"
      ],
      "metadata": {
        "id": "CwfbjbNhmsTn"
      }
    },
    {
      "cell_type": "markdown",
      "source": [
        "The following Jupyter Books and documentation may be useful for learning the programming components of this assignment:\n",
        "\n",
        "https://inria.github.io/scikit-learn-mooc/python_scripts/metrics_classification.html?highlight=logistic\n",
        "\n",
        "https://scikit-learn.org/stable/modules/generated/sklearn.linear_model.LogisticRegression.html\n",
        "\n",
        "https://geo-smart.github.io/curriculum-book/Chapter3-MachineLearning/3.5_logistic_regression.html\n",
        "\n"
      ],
      "metadata": {
        "id": "K4PJNfVAr6_9"
      }
    },
    {
      "cell_type": "code",
      "execution_count": null,
      "metadata": {
        "id": "EXkWtniEL4S_"
      },
      "outputs": [],
      "source": [
        "# load libraries\n",
        "import numpy as np\n",
        "import pandas as pd\n",
        "import matplotlib.pyplot as plt\n",
        "from matplotlib.pyplot import imshow\n",
        "import sklearn as sklearn\n",
        "from sklearn.decomposition import PCA\n",
        "from sklearn.model_selection import train_test_split\n",
        "from sklearn.linear_model import LogisticRegression\n",
        "from sklearn import metrics"
      ]
    }
  ],
  "metadata": {
    "colab": {
      "provenance": [],
      "include_colab_link": true
    },
    "kernelspec": {
      "display_name": "Python 3 (ipykernel)",
      "language": "python",
      "name": "python3"
    },
    "language_info": {
      "codemirror_mode": {
        "name": "ipython",
        "version": 3
      },
      "file_extension": ".py",
      "mimetype": "text/x-python",
      "name": "python",
      "nbconvert_exporter": "python",
      "pygments_lexer": "ipython3",
      "version": "3.9.7"
    }
  },
  "nbformat": 4,
  "nbformat_minor": 0
}