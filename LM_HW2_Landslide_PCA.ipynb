{
  "cells": [
    {
      "cell_type": "markdown",
      "metadata": {
        "id": "view-in-github",
        "colab_type": "text"
      },
      "source": [
        "<a href=\"https://colab.research.google.com/github/lmariemorales/GLY6932/blob/main/LM_HW2_Landslide_PCA.ipynb\" target=\"_parent\"><img src=\"https://colab.research.google.com/assets/colab-badge.svg\" alt=\"Open In Colab\"/></a>"
      ]
    },
    {
      "cell_type": "markdown",
      "source": [
        "# HW2: Principal Component Analysis (PCA) on landslide data\n",
        "\n",
        "The goal of this assignment is to learn to determine covariance between data variables, perform PCA, and interpret principal components.\n",
        "\n",
        "1. Download landslide data using pandas.  [1 point]\n",
        "\n",
        "  The dataset can be found here: https://raw.githubusercontent.com/GatorGlaciology/Intro-to-ML-course/main/Complete-data.csv\n",
        "  \n",
        "  A description of the data can be found here: https://link.springer.com/article/10.1007/s00500-021-06105-5\n",
        "\n",
        "  A 1 in the \"Landslide\" column means there has been a landslide at that location.\n",
        "2. Make a copy of the landslide dataframe and remove the \"Landslide\" column using the df.drop() command. Normalize the data by subtracting the mean from each column and dividing by the standard deviation (I said variance in the video, please use standard dev). [1 point]\n",
        "3. Compute the correlation and covariance matrices of the normalized data using df.corr() and df.cov() (if you normalized correctly, these matrices should be the same). Make a colormap plots of these values using the pandas background_gradient function (https://pandas.pydata.org/docs/reference/api/pandas.io.formats.style.Styler.background_gradient.html). [1 point]\n",
        "4. Are there any variables that are strongly correlated? [1 point]\n",
        "5. Apply a PCA and determine the principal components (PCs) using the sklearn PCA fit_transform function (https://scikit-learn.org/stable/modules/generated/sklearn.decomposition.PCA.html). Leave the n_components argument blank. This will default to keeping all components. [1 point]\n",
        "6. Make a scatter plot of PC1 vs. PC2. Remember that Python indexes from 0, so you will actually be plotting the 0 and 1 columns against each other. Use a different color for points that have a landslide. Make sure to include a legend. Describe any trends. [2 points]\n",
        "7. Determined the percent explained variance for each PC using the explained_variance_ratio_ attribute and make a scree plot (this is a plot showing PC# on the x axis and explained variance on the y axis). Label the x and y axes. [2 points]\n",
        "8. How many PCs would you need to capture at least 90% of the variance? [1 point]\n",
        "\n"
      ],
      "metadata": {
        "id": "CwfbjbNhmsTn"
      }
    },
    {
      "cell_type": "markdown",
      "source": [
        "The following Jupyter Books and documentation may be useful for learning the programming components of this assignment:\n",
        "\n",
        "https://www.tomasbeuzen.com/python-programming-for-data-science/README.html\n",
        "\n",
        "https://scikit-learn.org/stable/modules/generated/sklearn.decomposition.PCA.html\n",
        "\n",
        "https://geo-smart.github.io/curriculum-book/Chapter2-DataManipulation/2.9_pca.html\n",
        "\n"
      ],
      "metadata": {
        "id": "K4PJNfVAr6_9"
      }
    },
    {
      "cell_type": "code",
      "execution_count": null,
      "metadata": {
        "id": "EXkWtniEL4S_"
      },
      "outputs": [],
      "source": [
        "# load libraries\n",
        "import math\n",
        "import matplotlib.pyplot as plt\n",
        "from matplotlib.pyplot import imshow\n",
        "import numpy as np\n",
        "import pandas as pd\n",
        "import sklearn as sklearn\n",
        "from sklearn.decomposition import PCA"
      ]
    },
    {
      "cell_type": "code",
      "source": [],
      "metadata": {
        "id": "NF8JwlME3FwW"
      },
      "execution_count": null,
      "outputs": []
    }
  ],
  "metadata": {
    "colab": {
      "provenance": [],
      "include_colab_link": true
    },
    "kernelspec": {
      "display_name": "Python 3 (ipykernel)",
      "language": "python",
      "name": "python3"
    },
    "language_info": {
      "codemirror_mode": {
        "name": "ipython",
        "version": 3
      },
      "file_extension": ".py",
      "mimetype": "text/x-python",
      "name": "python",
      "nbconvert_exporter": "python",
      "pygments_lexer": "ipython3",
      "version": "3.9.7"
    }
  },
  "nbformat": 4,
  "nbformat_minor": 0
}