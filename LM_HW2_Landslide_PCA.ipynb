{
  "cells": [
    {
      "cell_type": "markdown",
      "metadata": {
        "id": "view-in-github",
        "colab_type": "text"
      },
      "source": [
        "<a href=\"https://colab.research.google.com/github/lmariemorales/GLY6932/blob/main/LM_HW2_Landslide_PCA.ipynb\" target=\"_parent\"><img src=\"https://colab.research.google.com/assets/colab-badge.svg\" alt=\"Open In Colab\"/></a>"
      ]
    },
    {
      "cell_type": "markdown",
      "source": [
        "# HW2: Principal Component Analysis (PCA) on landslide data\n",
        "\n",
        "The goal of this assignment is to learn to determine covariance between data variables, perform PCA, and interpret principal components.\n",
        "\n",
        "1. Download landslide data using pandas.  [1 point]\n",
        "\n",
        "  The dataset can be found here: https://raw.githubusercontent.com/GatorGlaciology/Intro-to-ML-course/main/Complete-data.csv\n",
        "  \n",
        "  A description of the data can be found here: https://link.springer.com/article/10.1007/s00500-021-06105-5\n",
        "\n",
        "  A 1 in the \"Landslide\" column means there has been a landslide at that location.\n",
        "2. Make a copy of the landslide dataframe and remove the \"Landslide\" column using the df.drop() command. Normalize the data by subtracting the mean from each column and dividing by the standard deviation (I said variance in the video, please use standard dev). [1 point]\n",
        "3. Compute the correlation and covariance matrices of the normalized data using df.corr() and df.cov() (if you normalized correctly, these matrices should be the same). Make a colormap plots of these values using the pandas background_gradient function (https://pandas.pydata.org/docs/reference/api/pandas.io.formats.style.Styler.background_gradient.html). [1 point]\n",
        "4. Are there any variables that are strongly correlated? [1 point]\n",
        "5. Apply a PCA and determine the principal components (PCs) using the sklearn PCA fit_transform function (https://scikit-learn.org/stable/modules/generated/sklearn.decomposition.PCA.html). Leave the n_components argument blank. This will default to keeping all components. [1 point]\n",
        "6. Make a scatter plot of PC1 vs. PC2. Remember that Python indexes from 0, so you will actually be plotting the 0 and 1 columns against each other. Use a different color for points that have a landslide. Make sure to include a legend. Describe any trends. [2 points]\n",
        "7. Determined the percent explained variance for each PC using the explained_variance_ratio_ attribute and make a scree plot (this is a plot showing PC# on the x axis and explained variance on the y axis). Label the x and y axes. [2 points]\n",
        "8. How many PCs would you need to capture at least 90% of the variance? [1 point]\n",
        "\n"
      ],
      "metadata": {
        "id": "CwfbjbNhmsTn"
      }
    },
    {
      "cell_type": "markdown",
      "source": [
        "The following Jupyter Books and documentation may be useful for learning the programming components of this assignment:\n",
        "\n",
        "https://www.tomasbeuzen.com/python-programming-for-data-science/README.html\n",
        "\n",
        "https://scikit-learn.org/stable/modules/generated/sklearn.decomposition.PCA.html\n",
        "\n",
        "https://geo-smart.github.io/curriculum-book/Chapter2-DataManipulation/2.9_pca.html\n",
        "\n"
      ],
      "metadata": {
        "id": "K4PJNfVAr6_9"
      }
    },
    {
      "cell_type": "code",
      "execution_count": 120,
      "metadata": {
        "id": "EXkWtniEL4S_"
      },
      "outputs": [],
      "source": [
        "# load libraries\n",
        "import math\n",
        "%matplotlib inline\n",
        "import matplotlib.pyplot as plt\n",
        "from matplotlib.pyplot import imshow\n",
        "import numpy as np\n",
        "import pandas as pd\n",
        "import sklearn as sklearn\n",
        "from sklearn.decomposition import PCA"
      ]
    },
    {
      "cell_type": "code",
      "source": [
        "plt.rcParams.update({'xtick.top':True,\n",
        "                     'ytick.right':True,\n",
        "                     'xtick.minor.visible':True,\n",
        "                     'ytick.minor.visible':True,\n",
        "                     'xtick.direction':'in',\n",
        "                     'ytick.direction':'in'})"
      ],
      "metadata": {
        "id": "Wuqid3cS7GQ_"
      },
      "execution_count": 121,
      "outputs": []
    },
    {
      "cell_type": "code",
      "source": [
        "url = 'https://raw.githubusercontent.com/GatorGlaciology/Intro-to-ML-course/main/Complete-data.csv'\n",
        "df = pd.read_csv(url)"
      ],
      "metadata": {
        "id": "NF8JwlME3FwW"
      },
      "execution_count": 95,
      "outputs": []
    },
    {
      "cell_type": "code",
      "source": [
        "ls_copy = df['Landslide'].copy()\n",
        "df = df.drop('Landslide', axis=1)\n",
        "normalized_df = (df- (df.mean())) / df.std()"
      ],
      "metadata": {
        "id": "2BmMlHMKUq-z"
      },
      "execution_count": 96,
      "outputs": []
    },
    {
      "cell_type": "code",
      "source": [
        "df_corr = normalized_df.corr()\n",
        "df_cov = normalized_df.cov()\n",
        "np.allclose(df_corr,df_cov)"
      ],
      "metadata": {
        "colab": {
          "base_uri": "https://localhost:8080/"
        },
        "id": "rmKkAGjLV4Uj",
        "outputId": "e040e2ed-616f-480b-d8e4-e28b472dc6a3"
      },
      "execution_count": 98,
      "outputs": [
        {
          "output_type": "execute_result",
          "data": {
            "text/plain": [
              "True"
            ]
          },
          "metadata": {},
          "execution_count": 98
        }
      ]
    },
    {
      "cell_type": "code",
      "source": [
        "df_corr.style.background_gradient(cmap='PiYG',vmin=-1,vmax=1).set_caption('Correlation Matrix')\n"
      ],
      "metadata": {
        "colab": {
          "base_uri": "https://localhost:8080/",
          "height": 443
        },
        "id": "yY32189OXEZW",
        "outputId": "30a0cef9-a1bd-4e02-f375-45c2813df65e"
      },
      "execution_count": 99,
      "outputs": [
        {
          "output_type": "execute_result",
          "data": {
            "text/plain": [
              "<pandas.io.formats.style.Styler at 0x7dd449986ed0>"
            ],
            "text/html": [
              "<style type=\"text/css\">\n",
              "#T_169ea_row0_col0, #T_169ea_row1_col1, #T_169ea_row2_col2, #T_169ea_row3_col3, #T_169ea_row4_col4, #T_169ea_row5_col5, #T_169ea_row6_col6, #T_169ea_row7_col7, #T_169ea_row8_col8, #T_169ea_row9_col9, #T_169ea_row10_col10, #T_169ea_row11_col11 {\n",
              "  background-color: #276419;\n",
              "  color: #f1f1f1;\n",
              "}\n",
              "#T_169ea_row0_col1, #T_169ea_row1_col0 {\n",
              "  background-color: #f8f4f6;\n",
              "  color: #000000;\n",
              "}\n",
              "#T_169ea_row0_col2, #T_169ea_row2_col0, #T_169ea_row5_col8, #T_169ea_row8_col5 {\n",
              "  background-color: #f6f7f5;\n",
              "  color: #000000;\n",
              "}\n",
              "#T_169ea_row0_col3, #T_169ea_row3_col0 {\n",
              "  background-color: #f5f7f3;\n",
              "  color: #000000;\n",
              "}\n",
              "#T_169ea_row0_col4, #T_169ea_row0_col5, #T_169ea_row1_col4, #T_169ea_row3_col4, #T_169ea_row4_col0, #T_169ea_row4_col1, #T_169ea_row4_col3, #T_169ea_row5_col0 {\n",
              "  background-color: #f5f7f2;\n",
              "  color: #000000;\n",
              "}\n",
              "#T_169ea_row0_col6, #T_169ea_row6_col0 {\n",
              "  background-color: #fce5f1;\n",
              "  color: #000000;\n",
              "}\n",
              "#T_169ea_row0_col7, #T_169ea_row5_col11, #T_169ea_row7_col0, #T_169ea_row11_col5 {\n",
              "  background-color: #e9f5d6;\n",
              "  color: #000000;\n",
              "}\n",
              "#T_169ea_row0_col8, #T_169ea_row6_col10, #T_169ea_row8_col0, #T_169ea_row10_col6 {\n",
              "  background-color: #f8f2f5;\n",
              "  color: #000000;\n",
              "}\n",
              "#T_169ea_row0_col9, #T_169ea_row4_col10, #T_169ea_row9_col0, #T_169ea_row10_col4 {\n",
              "  background-color: #f7f6f7;\n",
              "  color: #000000;\n",
              "}\n",
              "#T_169ea_row0_col10, #T_169ea_row2_col8, #T_169ea_row8_col2, #T_169ea_row10_col0 {\n",
              "  background-color: #f8f5f6;\n",
              "  color: #000000;\n",
              "}\n",
              "#T_169ea_row0_col11, #T_169ea_row2_col10, #T_169ea_row10_col2, #T_169ea_row11_col0 {\n",
              "  background-color: #f3f6ed;\n",
              "  color: #000000;\n",
              "}\n",
              "#T_169ea_row1_col2, #T_169ea_row2_col1, #T_169ea_row5_col10, #T_169ea_row10_col5 {\n",
              "  background-color: #f9f1f5;\n",
              "  color: #000000;\n",
              "}\n",
              "#T_169ea_row1_col3, #T_169ea_row3_col1, #T_169ea_row3_col7, #T_169ea_row7_col3 {\n",
              "  background-color: #e7f5d2;\n",
              "  color: #000000;\n",
              "}\n",
              "#T_169ea_row1_col5, #T_169ea_row2_col11, #T_169ea_row5_col1, #T_169ea_row8_col11, #T_169ea_row11_col2, #T_169ea_row11_col8 {\n",
              "  background-color: #f2f6ec;\n",
              "  color: #000000;\n",
              "}\n",
              "#T_169ea_row1_col6, #T_169ea_row2_col5, #T_169ea_row5_col2, #T_169ea_row6_col1, #T_169ea_row9_col10, #T_169ea_row10_col9 {\n",
              "  background-color: #eff6e4;\n",
              "  color: #000000;\n",
              "}\n",
              "#T_169ea_row1_col7, #T_169ea_row7_col1 {\n",
              "  background-color: #faedf3;\n",
              "  color: #000000;\n",
              "}\n",
              "#T_169ea_row1_col8, #T_169ea_row8_col1 {\n",
              "  background-color: #498d20;\n",
              "  color: #f1f1f1;\n",
              "}\n",
              "#T_169ea_row1_col9, #T_169ea_row9_col1 {\n",
              "  background-color: #faebf3;\n",
              "  color: #000000;\n",
              "}\n",
              "#T_169ea_row1_col10, #T_169ea_row10_col1 {\n",
              "  background-color: #c2197a;\n",
              "  color: #f1f1f1;\n",
              "}\n",
              "#T_169ea_row1_col11, #T_169ea_row11_col1 {\n",
              "  background-color: #ebf6db;\n",
              "  color: #000000;\n",
              "}\n",
              "#T_169ea_row2_col3, #T_169ea_row3_col2 {\n",
              "  background-color: #f1f6e8;\n",
              "  color: #000000;\n",
              "}\n",
              "#T_169ea_row2_col4, #T_169ea_row4_col2, #T_169ea_row4_col9, #T_169ea_row5_col9, #T_169ea_row9_col4, #T_169ea_row9_col5, #T_169ea_row9_col11, #T_169ea_row11_col9 {\n",
              "  background-color: #f7f7f6;\n",
              "  color: #000000;\n",
              "}\n",
              "#T_169ea_row2_col6, #T_169ea_row6_col2 {\n",
              "  background-color: #fbe7f2;\n",
              "  color: #000000;\n",
              "}\n",
              "#T_169ea_row2_col7, #T_169ea_row5_col7, #T_169ea_row7_col2, #T_169ea_row7_col5 {\n",
              "  background-color: #edf6df;\n",
              "  color: #000000;\n",
              "}\n",
              "#T_169ea_row2_col9, #T_169ea_row9_col2 {\n",
              "  background-color: #488c20;\n",
              "  color: #f1f1f1;\n",
              "}\n",
              "#T_169ea_row3_col5, #T_169ea_row5_col3 {\n",
              "  background-color: #aeda7a;\n",
              "  color: #000000;\n",
              "}\n",
              "#T_169ea_row3_col6, #T_169ea_row6_col3 {\n",
              "  background-color: #fcdded;\n",
              "  color: #000000;\n",
              "}\n",
              "#T_169ea_row3_col8, #T_169ea_row6_col8, #T_169ea_row8_col3, #T_169ea_row8_col6 {\n",
              "  background-color: #eef6e2;\n",
              "  color: #000000;\n",
              "}\n",
              "#T_169ea_row3_col9, #T_169ea_row9_col3 {\n",
              "  background-color: #f7f7f7;\n",
              "  color: #000000;\n",
              "}\n",
              "#T_169ea_row3_col10, #T_169ea_row10_col3 {\n",
              "  background-color: #fbd9ec;\n",
              "  color: #000000;\n",
              "}\n",
              "#T_169ea_row3_col11, #T_169ea_row11_col3 {\n",
              "  background-color: #c7e89f;\n",
              "  color: #000000;\n",
              "}\n",
              "#T_169ea_row4_col5, #T_169ea_row5_col4 {\n",
              "  background-color: #f8f3f6;\n",
              "  color: #000000;\n",
              "}\n",
              "#T_169ea_row4_col6, #T_169ea_row6_col4 {\n",
              "  background-color: #f1b7da;\n",
              "  color: #000000;\n",
              "}\n",
              "#T_169ea_row4_col7, #T_169ea_row7_col4 {\n",
              "  background-color: #a5d56f;\n",
              "  color: #000000;\n",
              "}\n",
              "#T_169ea_row4_col8, #T_169ea_row6_col11, #T_169ea_row7_col10, #T_169ea_row8_col4, #T_169ea_row10_col7, #T_169ea_row11_col6 {\n",
              "  background-color: #f3f7ef;\n",
              "  color: #000000;\n",
              "}\n",
              "#T_169ea_row4_col11, #T_169ea_row8_col9, #T_169ea_row9_col8, #T_169ea_row11_col4 {\n",
              "  background-color: #f9eef4;\n",
              "  color: #000000;\n",
              "}\n",
              "#T_169ea_row5_col6, #T_169ea_row6_col5 {\n",
              "  background-color: #fbe8f2;\n",
              "  color: #000000;\n",
              "}\n",
              "#T_169ea_row6_col7, #T_169ea_row7_col6 {\n",
              "  background-color: #9f095f;\n",
              "  color: #f1f1f1;\n",
              "}\n",
              "#T_169ea_row6_col9, #T_169ea_row7_col8, #T_169ea_row7_col11, #T_169ea_row8_col7, #T_169ea_row9_col6, #T_169ea_row11_col7 {\n",
              "  background-color: #faecf3;\n",
              "  color: #000000;\n",
              "}\n",
              "#T_169ea_row7_col9, #T_169ea_row9_col7 {\n",
              "  background-color: #f0f6e7;\n",
              "  color: #000000;\n",
              "}\n",
              "#T_169ea_row8_col10, #T_169ea_row10_col8 {\n",
              "  background-color: #e89ac6;\n",
              "  color: #000000;\n",
              "}\n",
              "#T_169ea_row10_col11, #T_169ea_row11_col10 {\n",
              "  background-color: #fde1ef;\n",
              "  color: #000000;\n",
              "}\n",
              "</style>\n",
              "<table id=\"T_169ea\" class=\"dataframe\">\n",
              "  <caption>Correlation Matrix</caption>\n",
              "  <thead>\n",
              "    <tr>\n",
              "      <th class=\"blank level0\" >&nbsp;</th>\n",
              "      <th id=\"T_169ea_level0_col0\" class=\"col_heading level0 col0\" >Aspect</th>\n",
              "      <th id=\"T_169ea_level0_col1\" class=\"col_heading level0 col1\" >Curvature</th>\n",
              "      <th id=\"T_169ea_level0_col2\" class=\"col_heading level0 col2\" >Earthquake</th>\n",
              "      <th id=\"T_169ea_level0_col3\" class=\"col_heading level0 col3\" >Elevation</th>\n",
              "      <th id=\"T_169ea_level0_col4\" class=\"col_heading level0 col4\" >Flow</th>\n",
              "      <th id=\"T_169ea_level0_col5\" class=\"col_heading level0 col5\" >Lithology</th>\n",
              "      <th id=\"T_169ea_level0_col6\" class=\"col_heading level0 col6\" >NDVI</th>\n",
              "      <th id=\"T_169ea_level0_col7\" class=\"col_heading level0 col7\" >NDWI</th>\n",
              "      <th id=\"T_169ea_level0_col8\" class=\"col_heading level0 col8\" >Plan</th>\n",
              "      <th id=\"T_169ea_level0_col9\" class=\"col_heading level0 col9\" >Precipitation</th>\n",
              "      <th id=\"T_169ea_level0_col10\" class=\"col_heading level0 col10\" >Profile</th>\n",
              "      <th id=\"T_169ea_level0_col11\" class=\"col_heading level0 col11\" >Slope</th>\n",
              "    </tr>\n",
              "  </thead>\n",
              "  <tbody>\n",
              "    <tr>\n",
              "      <th id=\"T_169ea_level0_row0\" class=\"row_heading level0 row0\" >Aspect</th>\n",
              "      <td id=\"T_169ea_row0_col0\" class=\"data row0 col0\" >1.000000</td>\n",
              "      <td id=\"T_169ea_row0_col1\" class=\"data row0 col1\" >-0.024232</td>\n",
              "      <td id=\"T_169ea_row0_col2\" class=\"data row0 col2\" >0.014727</td>\n",
              "      <td id=\"T_169ea_row0_col3\" class=\"data row0 col3\" >0.017998</td>\n",
              "      <td id=\"T_169ea_row0_col4\" class=\"data row0 col4\" >0.024295</td>\n",
              "      <td id=\"T_169ea_row0_col5\" class=\"data row0 col5\" >0.025086</td>\n",
              "      <td id=\"T_169ea_row0_col6\" class=\"data row0 col6\" >-0.158561</td>\n",
              "      <td id=\"T_169ea_row0_col7\" class=\"data row0 col7\" >0.168099</td>\n",
              "      <td id=\"T_169ea_row0_col8\" class=\"data row0 col8\" >-0.043066</td>\n",
              "      <td id=\"T_169ea_row0_col9\" class=\"data row0 col9\" >-0.010454</td>\n",
              "      <td id=\"T_169ea_row0_col10\" class=\"data row0 col10\" >-0.015876</td>\n",
              "      <td id=\"T_169ea_row0_col11\" class=\"data row0 col11\" >0.048420</td>\n",
              "    </tr>\n",
              "    <tr>\n",
              "      <th id=\"T_169ea_level0_row1\" class=\"row_heading level0 row1\" >Curvature</th>\n",
              "      <td id=\"T_169ea_row1_col0\" class=\"data row1 col0\" >-0.024232</td>\n",
              "      <td id=\"T_169ea_row1_col1\" class=\"data row1 col1\" >1.000000</td>\n",
              "      <td id=\"T_169ea_row1_col2\" class=\"data row1 col2\" >-0.049595</td>\n",
              "      <td id=\"T_169ea_row1_col3\" class=\"data row1 col3\" >0.193843</td>\n",
              "      <td id=\"T_169ea_row1_col4\" class=\"data row1 col4\" >0.025736</td>\n",
              "      <td id=\"T_169ea_row1_col5\" class=\"data row1 col5\" >0.058319</td>\n",
              "      <td id=\"T_169ea_row1_col6\" class=\"data row1 col6\" >0.094625</td>\n",
              "      <td id=\"T_169ea_row1_col7\" class=\"data row1 col7\" >-0.089028</td>\n",
              "      <td id=\"T_169ea_row1_col8\" class=\"data row1 col8\" >0.815075</td>\n",
              "      <td id=\"T_169ea_row1_col9\" class=\"data row1 col9\" >-0.104207</td>\n",
              "      <td id=\"T_169ea_row1_col10\" class=\"data row1 col10\" >-0.806851</td>\n",
              "      <td id=\"T_169ea_row1_col11\" class=\"data row1 col11\" >0.143316</td>\n",
              "    </tr>\n",
              "    <tr>\n",
              "      <th id=\"T_169ea_level0_row2\" class=\"row_heading level0 row2\" >Earthquake</th>\n",
              "      <td id=\"T_169ea_row2_col0\" class=\"data row2 col0\" >0.014727</td>\n",
              "      <td id=\"T_169ea_row2_col1\" class=\"data row2 col1\" >-0.049595</td>\n",
              "      <td id=\"T_169ea_row2_col2\" class=\"data row2 col2\" >1.000000</td>\n",
              "      <td id=\"T_169ea_row2_col3\" class=\"data row2 col3\" >0.071308</td>\n",
              "      <td id=\"T_169ea_row2_col4\" class=\"data row2 col4\" >0.003382</td>\n",
              "      <td id=\"T_169ea_row2_col5\" class=\"data row2 col5\" >0.095507</td>\n",
              "      <td id=\"T_169ea_row2_col6\" class=\"data row2 col6\" >-0.134619</td>\n",
              "      <td id=\"T_169ea_row2_col7\" class=\"data row2 col7\" >0.118588</td>\n",
              "      <td id=\"T_169ea_row2_col8\" class=\"data row2 col8\" >-0.022582</td>\n",
              "      <td id=\"T_169ea_row2_col9\" class=\"data row2 col9\" >0.825169</td>\n",
              "      <td id=\"T_169ea_row2_col10\" class=\"data row2 col10\" >0.049177</td>\n",
              "      <td id=\"T_169ea_row2_col11\" class=\"data row2 col11\" >0.055050</td>\n",
              "    </tr>\n",
              "    <tr>\n",
              "      <th id=\"T_169ea_level0_row3\" class=\"row_heading level0 row3\" >Elevation</th>\n",
              "      <td id=\"T_169ea_row3_col0\" class=\"data row3 col0\" >0.017998</td>\n",
              "      <td id=\"T_169ea_row3_col1\" class=\"data row3 col1\" >0.193843</td>\n",
              "      <td id=\"T_169ea_row3_col2\" class=\"data row3 col2\" >0.071308</td>\n",
              "      <td id=\"T_169ea_row3_col3\" class=\"data row3 col3\" >1.000000</td>\n",
              "      <td id=\"T_169ea_row3_col4\" class=\"data row3 col4\" >0.026903</td>\n",
              "      <td id=\"T_169ea_row3_col5\" class=\"data row3 col5\" >0.429702</td>\n",
              "      <td id=\"T_169ea_row3_col6\" class=\"data row3 col6\" >-0.217003</td>\n",
              "      <td id=\"T_169ea_row3_col7\" class=\"data row3 col7\" >0.187921</td>\n",
              "      <td id=\"T_169ea_row3_col8\" class=\"data row3 col8\" >0.104691</td>\n",
              "      <td id=\"T_169ea_row3_col9\" class=\"data row3 col9\" >-0.003628</td>\n",
              "      <td id=\"T_169ea_row3_col10\" class=\"data row3 col10\" >-0.228721</td>\n",
              "      <td id=\"T_169ea_row3_col11\" class=\"data row3 col11\" >0.333029</td>\n",
              "    </tr>\n",
              "    <tr>\n",
              "      <th id=\"T_169ea_level0_row4\" class=\"row_heading level0 row4\" >Flow</th>\n",
              "      <td id=\"T_169ea_row4_col0\" class=\"data row4 col0\" >0.024295</td>\n",
              "      <td id=\"T_169ea_row4_col1\" class=\"data row4 col1\" >0.025736</td>\n",
              "      <td id=\"T_169ea_row4_col2\" class=\"data row4 col2\" >0.003382</td>\n",
              "      <td id=\"T_169ea_row4_col3\" class=\"data row4 col3\" >0.026903</td>\n",
              "      <td id=\"T_169ea_row4_col4\" class=\"data row4 col4\" >1.000000</td>\n",
              "      <td id=\"T_169ea_row4_col5\" class=\"data row4 col5\" >-0.033881</td>\n",
              "      <td id=\"T_169ea_row4_col6\" class=\"data row4 col6\" >-0.393805</td>\n",
              "      <td id=\"T_169ea_row4_col7\" class=\"data row4 col7\" >0.462291</td>\n",
              "      <td id=\"T_169ea_row4_col8\" class=\"data row4 col8\" >0.041163</td>\n",
              "      <td id=\"T_169ea_row4_col9\" class=\"data row4 col9\" >0.002451</td>\n",
              "      <td id=\"T_169ea_row4_col10\" class=\"data row4 col10\" >-0.011119</td>\n",
              "      <td id=\"T_169ea_row4_col11\" class=\"data row4 col11\" >-0.078842</td>\n",
              "    </tr>\n",
              "    <tr>\n",
              "      <th id=\"T_169ea_level0_row5\" class=\"row_heading level0 row5\" >Lithology</th>\n",
              "      <td id=\"T_169ea_row5_col0\" class=\"data row5 col0\" >0.025086</td>\n",
              "      <td id=\"T_169ea_row5_col1\" class=\"data row5 col1\" >0.058319</td>\n",
              "      <td id=\"T_169ea_row5_col2\" class=\"data row5 col2\" >0.095507</td>\n",
              "      <td id=\"T_169ea_row5_col3\" class=\"data row5 col3\" >0.429702</td>\n",
              "      <td id=\"T_169ea_row5_col4\" class=\"data row5 col4\" >-0.033881</td>\n",
              "      <td id=\"T_169ea_row5_col5\" class=\"data row5 col5\" >1.000000</td>\n",
              "      <td id=\"T_169ea_row5_col6\" class=\"data row5 col6\" >-0.129279</td>\n",
              "      <td id=\"T_169ea_row5_col7\" class=\"data row5 col7\" >0.119080</td>\n",
              "      <td id=\"T_169ea_row5_col8\" class=\"data row5 col8\" >0.008051</td>\n",
              "      <td id=\"T_169ea_row5_col9\" class=\"data row5 col9\" >0.005351</td>\n",
              "      <td id=\"T_169ea_row5_col10\" class=\"data row5 col10\" >-0.048930</td>\n",
              "      <td id=\"T_169ea_row5_col11\" class=\"data row5 col11\" >0.169103</td>\n",
              "    </tr>\n",
              "    <tr>\n",
              "      <th id=\"T_169ea_level0_row6\" class=\"row_heading level0 row6\" >NDVI</th>\n",
              "      <td id=\"T_169ea_row6_col0\" class=\"data row6 col0\" >-0.158561</td>\n",
              "      <td id=\"T_169ea_row6_col1\" class=\"data row6 col1\" >0.094625</td>\n",
              "      <td id=\"T_169ea_row6_col2\" class=\"data row6 col2\" >-0.134619</td>\n",
              "      <td id=\"T_169ea_row6_col3\" class=\"data row6 col3\" >-0.217003</td>\n",
              "      <td id=\"T_169ea_row6_col4\" class=\"data row6 col4\" >-0.393805</td>\n",
              "      <td id=\"T_169ea_row6_col5\" class=\"data row6 col5\" >-0.129279</td>\n",
              "      <td id=\"T_169ea_row6_col6\" class=\"data row6 col6\" >1.000000</td>\n",
              "      <td id=\"T_169ea_row6_col7\" class=\"data row6 col7\" >-0.931590</td>\n",
              "      <td id=\"T_169ea_row6_col8\" class=\"data row6 col8\" >0.102043</td>\n",
              "      <td id=\"T_169ea_row6_col9\" class=\"data row6 col9\" >-0.096063</td>\n",
              "      <td id=\"T_169ea_row6_col10\" class=\"data row6 col10\" >-0.042720</td>\n",
              "      <td id=\"T_169ea_row6_col11\" class=\"data row6 col11\" >0.041726</td>\n",
              "    </tr>\n",
              "    <tr>\n",
              "      <th id=\"T_169ea_level0_row7\" class=\"row_heading level0 row7\" >NDWI</th>\n",
              "      <td id=\"T_169ea_row7_col0\" class=\"data row7 col0\" >0.168099</td>\n",
              "      <td id=\"T_169ea_row7_col1\" class=\"data row7 col1\" >-0.089028</td>\n",
              "      <td id=\"T_169ea_row7_col2\" class=\"data row7 col2\" >0.118588</td>\n",
              "      <td id=\"T_169ea_row7_col3\" class=\"data row7 col3\" >0.187921</td>\n",
              "      <td id=\"T_169ea_row7_col4\" class=\"data row7 col4\" >0.462291</td>\n",
              "      <td id=\"T_169ea_row7_col5\" class=\"data row7 col5\" >0.119080</td>\n",
              "      <td id=\"T_169ea_row7_col6\" class=\"data row7 col6\" >-0.931590</td>\n",
              "      <td id=\"T_169ea_row7_col7\" class=\"data row7 col7\" >1.000000</td>\n",
              "      <td id=\"T_169ea_row7_col8\" class=\"data row7 col8\" >-0.097774</td>\n",
              "      <td id=\"T_169ea_row7_col9\" class=\"data row7 col9\" >0.078201</td>\n",
              "      <td id=\"T_169ea_row7_col10\" class=\"data row7 col10\" >0.040269</td>\n",
              "      <td id=\"T_169ea_row7_col11\" class=\"data row7 col11\" >-0.098171</td>\n",
              "    </tr>\n",
              "    <tr>\n",
              "      <th id=\"T_169ea_level0_row8\" class=\"row_heading level0 row8\" >Plan</th>\n",
              "      <td id=\"T_169ea_row8_col0\" class=\"data row8 col0\" >-0.043066</td>\n",
              "      <td id=\"T_169ea_row8_col1\" class=\"data row8 col1\" >0.815075</td>\n",
              "      <td id=\"T_169ea_row8_col2\" class=\"data row8 col2\" >-0.022582</td>\n",
              "      <td id=\"T_169ea_row8_col3\" class=\"data row8 col3\" >0.104691</td>\n",
              "      <td id=\"T_169ea_row8_col4\" class=\"data row8 col4\" >0.041163</td>\n",
              "      <td id=\"T_169ea_row8_col5\" class=\"data row8 col5\" >0.008051</td>\n",
              "      <td id=\"T_169ea_row8_col6\" class=\"data row8 col6\" >0.102043</td>\n",
              "      <td id=\"T_169ea_row8_col7\" class=\"data row8 col7\" >-0.097774</td>\n",
              "      <td id=\"T_169ea_row8_col8\" class=\"data row8 col8\" >1.000000</td>\n",
              "      <td id=\"T_169ea_row8_col9\" class=\"data row8 col9\" >-0.072768</td>\n",
              "      <td id=\"T_169ea_row8_col10\" class=\"data row8 col10\" >-0.487539</td>\n",
              "      <td id=\"T_169ea_row8_col11\" class=\"data row8 col11\" >0.055292</td>\n",
              "    </tr>\n",
              "    <tr>\n",
              "      <th id=\"T_169ea_level0_row9\" class=\"row_heading level0 row9\" >Precipitation</th>\n",
              "      <td id=\"T_169ea_row9_col0\" class=\"data row9 col0\" >-0.010454</td>\n",
              "      <td id=\"T_169ea_row9_col1\" class=\"data row9 col1\" >-0.104207</td>\n",
              "      <td id=\"T_169ea_row9_col2\" class=\"data row9 col2\" >0.825169</td>\n",
              "      <td id=\"T_169ea_row9_col3\" class=\"data row9 col3\" >-0.003628</td>\n",
              "      <td id=\"T_169ea_row9_col4\" class=\"data row9 col4\" >0.002451</td>\n",
              "      <td id=\"T_169ea_row9_col5\" class=\"data row9 col5\" >0.005351</td>\n",
              "      <td id=\"T_169ea_row9_col6\" class=\"data row9 col6\" >-0.096063</td>\n",
              "      <td id=\"T_169ea_row9_col7\" class=\"data row9 col7\" >0.078201</td>\n",
              "      <td id=\"T_169ea_row9_col8\" class=\"data row9 col8\" >-0.072768</td>\n",
              "      <td id=\"T_169ea_row9_col9\" class=\"data row9 col9\" >1.000000</td>\n",
              "      <td id=\"T_169ea_row9_col10\" class=\"data row9 col10\" >0.095657</td>\n",
              "      <td id=\"T_169ea_row9_col11\" class=\"data row9 col11\" >0.002301</td>\n",
              "    </tr>\n",
              "    <tr>\n",
              "      <th id=\"T_169ea_level0_row10\" class=\"row_heading level0 row10\" >Profile</th>\n",
              "      <td id=\"T_169ea_row10_col0\" class=\"data row10 col0\" >-0.015876</td>\n",
              "      <td id=\"T_169ea_row10_col1\" class=\"data row10 col1\" >-0.806851</td>\n",
              "      <td id=\"T_169ea_row10_col2\" class=\"data row10 col2\" >0.049177</td>\n",
              "      <td id=\"T_169ea_row10_col3\" class=\"data row10 col3\" >-0.228721</td>\n",
              "      <td id=\"T_169ea_row10_col4\" class=\"data row10 col4\" >-0.011119</td>\n",
              "      <td id=\"T_169ea_row10_col5\" class=\"data row10 col5\" >-0.048930</td>\n",
              "      <td id=\"T_169ea_row10_col6\" class=\"data row10 col6\" >-0.042720</td>\n",
              "      <td id=\"T_169ea_row10_col7\" class=\"data row10 col7\" >0.040269</td>\n",
              "      <td id=\"T_169ea_row10_col8\" class=\"data row10 col8\" >-0.487539</td>\n",
              "      <td id=\"T_169ea_row10_col9\" class=\"data row10 col9\" >0.095657</td>\n",
              "      <td id=\"T_169ea_row10_col10\" class=\"data row10 col10\" >1.000000</td>\n",
              "      <td id=\"T_169ea_row10_col11\" class=\"data row10 col11\" >-0.192357</td>\n",
              "    </tr>\n",
              "    <tr>\n",
              "      <th id=\"T_169ea_level0_row11\" class=\"row_heading level0 row11\" >Slope</th>\n",
              "      <td id=\"T_169ea_row11_col0\" class=\"data row11 col0\" >0.048420</td>\n",
              "      <td id=\"T_169ea_row11_col1\" class=\"data row11 col1\" >0.143316</td>\n",
              "      <td id=\"T_169ea_row11_col2\" class=\"data row11 col2\" >0.055050</td>\n",
              "      <td id=\"T_169ea_row11_col3\" class=\"data row11 col3\" >0.333029</td>\n",
              "      <td id=\"T_169ea_row11_col4\" class=\"data row11 col4\" >-0.078842</td>\n",
              "      <td id=\"T_169ea_row11_col5\" class=\"data row11 col5\" >0.169103</td>\n",
              "      <td id=\"T_169ea_row11_col6\" class=\"data row11 col6\" >0.041726</td>\n",
              "      <td id=\"T_169ea_row11_col7\" class=\"data row11 col7\" >-0.098171</td>\n",
              "      <td id=\"T_169ea_row11_col8\" class=\"data row11 col8\" >0.055292</td>\n",
              "      <td id=\"T_169ea_row11_col9\" class=\"data row11 col9\" >0.002301</td>\n",
              "      <td id=\"T_169ea_row11_col10\" class=\"data row11 col10\" >-0.192357</td>\n",
              "      <td id=\"T_169ea_row11_col11\" class=\"data row11 col11\" >1.000000</td>\n",
              "    </tr>\n",
              "  </tbody>\n",
              "</table>\n"
            ]
          },
          "metadata": {},
          "execution_count": 99
        }
      ]
    },
    {
      "cell_type": "code",
      "source": [
        "print('High correlation (Over 0.7? Reference: https://www.andrews.edu/~calkins/math/edrm611/edrm05.htm):\\nCurvature and Curvature plan\\nPrecipitation and Earthquake danger\\nProfile curvature and Curvature\\nNDWI and NDVI')\n"
      ],
      "metadata": {
        "colab": {
          "base_uri": "https://localhost:8080/"
        },
        "id": "BLa-gJjyZR24",
        "outputId": "1a0e5d7a-3a7c-44b8-d60b-67123218233b"
      },
      "execution_count": 63,
      "outputs": [
        {
          "output_type": "stream",
          "name": "stdout",
          "text": [
            "High correlation (Over 0.7? Reference: https://www.andrews.edu/~calkins/math/edrm611/edrm05.htm):\n",
            "Curvature and Curvature plan\n",
            "Precipitation and Earthquake danger\n",
            "Profile curvature and Curvature\n",
            "NDWI and NDVI\n"
          ]
        }
      ]
    },
    {
      "cell_type": "code",
      "source": [
        "print('Moderate correlation (0.3<x<0.7):\\nElevation and Lithology\\nNDWI and Flow\\nCurvature plan and Profile curvature\\nSlope and Elevation')"
      ],
      "metadata": {
        "colab": {
          "base_uri": "https://localhost:8080/"
        },
        "id": "rgt6_HcrzFCe",
        "outputId": "5ba46070-71be-4434-f4ec-92b0af523ae6"
      },
      "execution_count": 65,
      "outputs": [
        {
          "output_type": "stream",
          "name": "stdout",
          "text": [
            "Moderate correlation (0.3<x<0.7):\n",
            "Elevation and Lithology\n",
            "NDWI and Flow\n",
            "Curvature plan and Profile curvature\n",
            "Slope and Elevation\n"
          ]
        }
      ]
    },
    {
      "cell_type": "markdown",
      "source": [
        "In the recording, the values around 0.5 are also pointed out as highly correlated. However, the reference listed above considers this moderately correlated. I'll put both just in case."
      ],
      "metadata": {
        "id": "DLKNd888ytZ2"
      }
    },
    {
      "cell_type": "code",
      "source": [
        "pca = PCA()\n",
        "pca.fit(normalized_df)"
      ],
      "metadata": {
        "colab": {
          "base_uri": "https://localhost:8080/",
          "height": 80
        },
        "id": "lRQJrikOb0Lk",
        "outputId": "0878d167-8d85-4467-e166-b37603c305a3"
      },
      "execution_count": 100,
      "outputs": [
        {
          "output_type": "execute_result",
          "data": {
            "text/plain": [
              "PCA()"
            ],
            "text/html": [
              "<style>#sk-container-id-4 {\n",
              "  /* Definition of color scheme common for light and dark mode */\n",
              "  --sklearn-color-text: #000;\n",
              "  --sklearn-color-text-muted: #666;\n",
              "  --sklearn-color-line: gray;\n",
              "  /* Definition of color scheme for unfitted estimators */\n",
              "  --sklearn-color-unfitted-level-0: #fff5e6;\n",
              "  --sklearn-color-unfitted-level-1: #f6e4d2;\n",
              "  --sklearn-color-unfitted-level-2: #ffe0b3;\n",
              "  --sklearn-color-unfitted-level-3: chocolate;\n",
              "  /* Definition of color scheme for fitted estimators */\n",
              "  --sklearn-color-fitted-level-0: #f0f8ff;\n",
              "  --sklearn-color-fitted-level-1: #d4ebff;\n",
              "  --sklearn-color-fitted-level-2: #b3dbfd;\n",
              "  --sklearn-color-fitted-level-3: cornflowerblue;\n",
              "\n",
              "  /* Specific color for light theme */\n",
              "  --sklearn-color-text-on-default-background: var(--sg-text-color, var(--theme-code-foreground, var(--jp-content-font-color1, black)));\n",
              "  --sklearn-color-background: var(--sg-background-color, var(--theme-background, var(--jp-layout-color0, white)));\n",
              "  --sklearn-color-border-box: var(--sg-text-color, var(--theme-code-foreground, var(--jp-content-font-color1, black)));\n",
              "  --sklearn-color-icon: #696969;\n",
              "\n",
              "  @media (prefers-color-scheme: dark) {\n",
              "    /* Redefinition of color scheme for dark theme */\n",
              "    --sklearn-color-text-on-default-background: var(--sg-text-color, var(--theme-code-foreground, var(--jp-content-font-color1, white)));\n",
              "    --sklearn-color-background: var(--sg-background-color, var(--theme-background, var(--jp-layout-color0, #111)));\n",
              "    --sklearn-color-border-box: var(--sg-text-color, var(--theme-code-foreground, var(--jp-content-font-color1, white)));\n",
              "    --sklearn-color-icon: #878787;\n",
              "  }\n",
              "}\n",
              "\n",
              "#sk-container-id-4 {\n",
              "  color: var(--sklearn-color-text);\n",
              "}\n",
              "\n",
              "#sk-container-id-4 pre {\n",
              "  padding: 0;\n",
              "}\n",
              "\n",
              "#sk-container-id-4 input.sk-hidden--visually {\n",
              "  border: 0;\n",
              "  clip: rect(1px 1px 1px 1px);\n",
              "  clip: rect(1px, 1px, 1px, 1px);\n",
              "  height: 1px;\n",
              "  margin: -1px;\n",
              "  overflow: hidden;\n",
              "  padding: 0;\n",
              "  position: absolute;\n",
              "  width: 1px;\n",
              "}\n",
              "\n",
              "#sk-container-id-4 div.sk-dashed-wrapped {\n",
              "  border: 1px dashed var(--sklearn-color-line);\n",
              "  margin: 0 0.4em 0.5em 0.4em;\n",
              "  box-sizing: border-box;\n",
              "  padding-bottom: 0.4em;\n",
              "  background-color: var(--sklearn-color-background);\n",
              "}\n",
              "\n",
              "#sk-container-id-4 div.sk-container {\n",
              "  /* jupyter's `normalize.less` sets `[hidden] { display: none; }`\n",
              "     but bootstrap.min.css set `[hidden] { display: none !important; }`\n",
              "     so we also need the `!important` here to be able to override the\n",
              "     default hidden behavior on the sphinx rendered scikit-learn.org.\n",
              "     See: https://github.com/scikit-learn/scikit-learn/issues/21755 */\n",
              "  display: inline-block !important;\n",
              "  position: relative;\n",
              "}\n",
              "\n",
              "#sk-container-id-4 div.sk-text-repr-fallback {\n",
              "  display: none;\n",
              "}\n",
              "\n",
              "div.sk-parallel-item,\n",
              "div.sk-serial,\n",
              "div.sk-item {\n",
              "  /* draw centered vertical line to link estimators */\n",
              "  background-image: linear-gradient(var(--sklearn-color-text-on-default-background), var(--sklearn-color-text-on-default-background));\n",
              "  background-size: 2px 100%;\n",
              "  background-repeat: no-repeat;\n",
              "  background-position: center center;\n",
              "}\n",
              "\n",
              "/* Parallel-specific style estimator block */\n",
              "\n",
              "#sk-container-id-4 div.sk-parallel-item::after {\n",
              "  content: \"\";\n",
              "  width: 100%;\n",
              "  border-bottom: 2px solid var(--sklearn-color-text-on-default-background);\n",
              "  flex-grow: 1;\n",
              "}\n",
              "\n",
              "#sk-container-id-4 div.sk-parallel {\n",
              "  display: flex;\n",
              "  align-items: stretch;\n",
              "  justify-content: center;\n",
              "  background-color: var(--sklearn-color-background);\n",
              "  position: relative;\n",
              "}\n",
              "\n",
              "#sk-container-id-4 div.sk-parallel-item {\n",
              "  display: flex;\n",
              "  flex-direction: column;\n",
              "}\n",
              "\n",
              "#sk-container-id-4 div.sk-parallel-item:first-child::after {\n",
              "  align-self: flex-end;\n",
              "  width: 50%;\n",
              "}\n",
              "\n",
              "#sk-container-id-4 div.sk-parallel-item:last-child::after {\n",
              "  align-self: flex-start;\n",
              "  width: 50%;\n",
              "}\n",
              "\n",
              "#sk-container-id-4 div.sk-parallel-item:only-child::after {\n",
              "  width: 0;\n",
              "}\n",
              "\n",
              "/* Serial-specific style estimator block */\n",
              "\n",
              "#sk-container-id-4 div.sk-serial {\n",
              "  display: flex;\n",
              "  flex-direction: column;\n",
              "  align-items: center;\n",
              "  background-color: var(--sklearn-color-background);\n",
              "  padding-right: 1em;\n",
              "  padding-left: 1em;\n",
              "}\n",
              "\n",
              "\n",
              "/* Toggleable style: style used for estimator/Pipeline/ColumnTransformer box that is\n",
              "clickable and can be expanded/collapsed.\n",
              "- Pipeline and ColumnTransformer use this feature and define the default style\n",
              "- Estimators will overwrite some part of the style using the `sk-estimator` class\n",
              "*/\n",
              "\n",
              "/* Pipeline and ColumnTransformer style (default) */\n",
              "\n",
              "#sk-container-id-4 div.sk-toggleable {\n",
              "  /* Default theme specific background. It is overwritten whether we have a\n",
              "  specific estimator or a Pipeline/ColumnTransformer */\n",
              "  background-color: var(--sklearn-color-background);\n",
              "}\n",
              "\n",
              "/* Toggleable label */\n",
              "#sk-container-id-4 label.sk-toggleable__label {\n",
              "  cursor: pointer;\n",
              "  display: flex;\n",
              "  width: 100%;\n",
              "  margin-bottom: 0;\n",
              "  padding: 0.5em;\n",
              "  box-sizing: border-box;\n",
              "  text-align: center;\n",
              "  align-items: start;\n",
              "  justify-content: space-between;\n",
              "  gap: 0.5em;\n",
              "}\n",
              "\n",
              "#sk-container-id-4 label.sk-toggleable__label .caption {\n",
              "  font-size: 0.6rem;\n",
              "  font-weight: lighter;\n",
              "  color: var(--sklearn-color-text-muted);\n",
              "}\n",
              "\n",
              "#sk-container-id-4 label.sk-toggleable__label-arrow:before {\n",
              "  /* Arrow on the left of the label */\n",
              "  content: \"▸\";\n",
              "  float: left;\n",
              "  margin-right: 0.25em;\n",
              "  color: var(--sklearn-color-icon);\n",
              "}\n",
              "\n",
              "#sk-container-id-4 label.sk-toggleable__label-arrow:hover:before {\n",
              "  color: var(--sklearn-color-text);\n",
              "}\n",
              "\n",
              "/* Toggleable content - dropdown */\n",
              "\n",
              "#sk-container-id-4 div.sk-toggleable__content {\n",
              "  max-height: 0;\n",
              "  max-width: 0;\n",
              "  overflow: hidden;\n",
              "  text-align: left;\n",
              "  /* unfitted */\n",
              "  background-color: var(--sklearn-color-unfitted-level-0);\n",
              "}\n",
              "\n",
              "#sk-container-id-4 div.sk-toggleable__content.fitted {\n",
              "  /* fitted */\n",
              "  background-color: var(--sklearn-color-fitted-level-0);\n",
              "}\n",
              "\n",
              "#sk-container-id-4 div.sk-toggleable__content pre {\n",
              "  margin: 0.2em;\n",
              "  border-radius: 0.25em;\n",
              "  color: var(--sklearn-color-text);\n",
              "  /* unfitted */\n",
              "  background-color: var(--sklearn-color-unfitted-level-0);\n",
              "}\n",
              "\n",
              "#sk-container-id-4 div.sk-toggleable__content.fitted pre {\n",
              "  /* unfitted */\n",
              "  background-color: var(--sklearn-color-fitted-level-0);\n",
              "}\n",
              "\n",
              "#sk-container-id-4 input.sk-toggleable__control:checked~div.sk-toggleable__content {\n",
              "  /* Expand drop-down */\n",
              "  max-height: 200px;\n",
              "  max-width: 100%;\n",
              "  overflow: auto;\n",
              "}\n",
              "\n",
              "#sk-container-id-4 input.sk-toggleable__control:checked~label.sk-toggleable__label-arrow:before {\n",
              "  content: \"▾\";\n",
              "}\n",
              "\n",
              "/* Pipeline/ColumnTransformer-specific style */\n",
              "\n",
              "#sk-container-id-4 div.sk-label input.sk-toggleable__control:checked~label.sk-toggleable__label {\n",
              "  color: var(--sklearn-color-text);\n",
              "  background-color: var(--sklearn-color-unfitted-level-2);\n",
              "}\n",
              "\n",
              "#sk-container-id-4 div.sk-label.fitted input.sk-toggleable__control:checked~label.sk-toggleable__label {\n",
              "  background-color: var(--sklearn-color-fitted-level-2);\n",
              "}\n",
              "\n",
              "/* Estimator-specific style */\n",
              "\n",
              "/* Colorize estimator box */\n",
              "#sk-container-id-4 div.sk-estimator input.sk-toggleable__control:checked~label.sk-toggleable__label {\n",
              "  /* unfitted */\n",
              "  background-color: var(--sklearn-color-unfitted-level-2);\n",
              "}\n",
              "\n",
              "#sk-container-id-4 div.sk-estimator.fitted input.sk-toggleable__control:checked~label.sk-toggleable__label {\n",
              "  /* fitted */\n",
              "  background-color: var(--sklearn-color-fitted-level-2);\n",
              "}\n",
              "\n",
              "#sk-container-id-4 div.sk-label label.sk-toggleable__label,\n",
              "#sk-container-id-4 div.sk-label label {\n",
              "  /* The background is the default theme color */\n",
              "  color: var(--sklearn-color-text-on-default-background);\n",
              "}\n",
              "\n",
              "/* On hover, darken the color of the background */\n",
              "#sk-container-id-4 div.sk-label:hover label.sk-toggleable__label {\n",
              "  color: var(--sklearn-color-text);\n",
              "  background-color: var(--sklearn-color-unfitted-level-2);\n",
              "}\n",
              "\n",
              "/* Label box, darken color on hover, fitted */\n",
              "#sk-container-id-4 div.sk-label.fitted:hover label.sk-toggleable__label.fitted {\n",
              "  color: var(--sklearn-color-text);\n",
              "  background-color: var(--sklearn-color-fitted-level-2);\n",
              "}\n",
              "\n",
              "/* Estimator label */\n",
              "\n",
              "#sk-container-id-4 div.sk-label label {\n",
              "  font-family: monospace;\n",
              "  font-weight: bold;\n",
              "  display: inline-block;\n",
              "  line-height: 1.2em;\n",
              "}\n",
              "\n",
              "#sk-container-id-4 div.sk-label-container {\n",
              "  text-align: center;\n",
              "}\n",
              "\n",
              "/* Estimator-specific */\n",
              "#sk-container-id-4 div.sk-estimator {\n",
              "  font-family: monospace;\n",
              "  border: 1px dotted var(--sklearn-color-border-box);\n",
              "  border-radius: 0.25em;\n",
              "  box-sizing: border-box;\n",
              "  margin-bottom: 0.5em;\n",
              "  /* unfitted */\n",
              "  background-color: var(--sklearn-color-unfitted-level-0);\n",
              "}\n",
              "\n",
              "#sk-container-id-4 div.sk-estimator.fitted {\n",
              "  /* fitted */\n",
              "  background-color: var(--sklearn-color-fitted-level-0);\n",
              "}\n",
              "\n",
              "/* on hover */\n",
              "#sk-container-id-4 div.sk-estimator:hover {\n",
              "  /* unfitted */\n",
              "  background-color: var(--sklearn-color-unfitted-level-2);\n",
              "}\n",
              "\n",
              "#sk-container-id-4 div.sk-estimator.fitted:hover {\n",
              "  /* fitted */\n",
              "  background-color: var(--sklearn-color-fitted-level-2);\n",
              "}\n",
              "\n",
              "/* Specification for estimator info (e.g. \"i\" and \"?\") */\n",
              "\n",
              "/* Common style for \"i\" and \"?\" */\n",
              "\n",
              ".sk-estimator-doc-link,\n",
              "a:link.sk-estimator-doc-link,\n",
              "a:visited.sk-estimator-doc-link {\n",
              "  float: right;\n",
              "  font-size: smaller;\n",
              "  line-height: 1em;\n",
              "  font-family: monospace;\n",
              "  background-color: var(--sklearn-color-background);\n",
              "  border-radius: 1em;\n",
              "  height: 1em;\n",
              "  width: 1em;\n",
              "  text-decoration: none !important;\n",
              "  margin-left: 0.5em;\n",
              "  text-align: center;\n",
              "  /* unfitted */\n",
              "  border: var(--sklearn-color-unfitted-level-1) 1pt solid;\n",
              "  color: var(--sklearn-color-unfitted-level-1);\n",
              "}\n",
              "\n",
              ".sk-estimator-doc-link.fitted,\n",
              "a:link.sk-estimator-doc-link.fitted,\n",
              "a:visited.sk-estimator-doc-link.fitted {\n",
              "  /* fitted */\n",
              "  border: var(--sklearn-color-fitted-level-1) 1pt solid;\n",
              "  color: var(--sklearn-color-fitted-level-1);\n",
              "}\n",
              "\n",
              "/* On hover */\n",
              "div.sk-estimator:hover .sk-estimator-doc-link:hover,\n",
              ".sk-estimator-doc-link:hover,\n",
              "div.sk-label-container:hover .sk-estimator-doc-link:hover,\n",
              ".sk-estimator-doc-link:hover {\n",
              "  /* unfitted */\n",
              "  background-color: var(--sklearn-color-unfitted-level-3);\n",
              "  color: var(--sklearn-color-background);\n",
              "  text-decoration: none;\n",
              "}\n",
              "\n",
              "div.sk-estimator.fitted:hover .sk-estimator-doc-link.fitted:hover,\n",
              ".sk-estimator-doc-link.fitted:hover,\n",
              "div.sk-label-container:hover .sk-estimator-doc-link.fitted:hover,\n",
              ".sk-estimator-doc-link.fitted:hover {\n",
              "  /* fitted */\n",
              "  background-color: var(--sklearn-color-fitted-level-3);\n",
              "  color: var(--sklearn-color-background);\n",
              "  text-decoration: none;\n",
              "}\n",
              "\n",
              "/* Span, style for the box shown on hovering the info icon */\n",
              ".sk-estimator-doc-link span {\n",
              "  display: none;\n",
              "  z-index: 9999;\n",
              "  position: relative;\n",
              "  font-weight: normal;\n",
              "  right: .2ex;\n",
              "  padding: .5ex;\n",
              "  margin: .5ex;\n",
              "  width: min-content;\n",
              "  min-width: 20ex;\n",
              "  max-width: 50ex;\n",
              "  color: var(--sklearn-color-text);\n",
              "  box-shadow: 2pt 2pt 4pt #999;\n",
              "  /* unfitted */\n",
              "  background: var(--sklearn-color-unfitted-level-0);\n",
              "  border: .5pt solid var(--sklearn-color-unfitted-level-3);\n",
              "}\n",
              "\n",
              ".sk-estimator-doc-link.fitted span {\n",
              "  /* fitted */\n",
              "  background: var(--sklearn-color-fitted-level-0);\n",
              "  border: var(--sklearn-color-fitted-level-3);\n",
              "}\n",
              "\n",
              ".sk-estimator-doc-link:hover span {\n",
              "  display: block;\n",
              "}\n",
              "\n",
              "/* \"?\"-specific style due to the `<a>` HTML tag */\n",
              "\n",
              "#sk-container-id-4 a.estimator_doc_link {\n",
              "  float: right;\n",
              "  font-size: 1rem;\n",
              "  line-height: 1em;\n",
              "  font-family: monospace;\n",
              "  background-color: var(--sklearn-color-background);\n",
              "  border-radius: 1rem;\n",
              "  height: 1rem;\n",
              "  width: 1rem;\n",
              "  text-decoration: none;\n",
              "  /* unfitted */\n",
              "  color: var(--sklearn-color-unfitted-level-1);\n",
              "  border: var(--sklearn-color-unfitted-level-1) 1pt solid;\n",
              "}\n",
              "\n",
              "#sk-container-id-4 a.estimator_doc_link.fitted {\n",
              "  /* fitted */\n",
              "  border: var(--sklearn-color-fitted-level-1) 1pt solid;\n",
              "  color: var(--sklearn-color-fitted-level-1);\n",
              "}\n",
              "\n",
              "/* On hover */\n",
              "#sk-container-id-4 a.estimator_doc_link:hover {\n",
              "  /* unfitted */\n",
              "  background-color: var(--sklearn-color-unfitted-level-3);\n",
              "  color: var(--sklearn-color-background);\n",
              "  text-decoration: none;\n",
              "}\n",
              "\n",
              "#sk-container-id-4 a.estimator_doc_link.fitted:hover {\n",
              "  /* fitted */\n",
              "  background-color: var(--sklearn-color-fitted-level-3);\n",
              "}\n",
              "</style><div id=\"sk-container-id-4\" class=\"sk-top-container\"><div class=\"sk-text-repr-fallback\"><pre>PCA()</pre><b>In a Jupyter environment, please rerun this cell to show the HTML representation or trust the notebook. <br />On GitHub, the HTML representation is unable to render, please try loading this page with nbviewer.org.</b></div><div class=\"sk-container\" hidden><div class=\"sk-item\"><div class=\"sk-estimator fitted sk-toggleable\"><input class=\"sk-toggleable__control sk-hidden--visually\" id=\"sk-estimator-id-4\" type=\"checkbox\" checked><label for=\"sk-estimator-id-4\" class=\"sk-toggleable__label fitted sk-toggleable__label-arrow\"><div><div>PCA</div></div><div><a class=\"sk-estimator-doc-link fitted\" rel=\"noreferrer\" target=\"_blank\" href=\"https://scikit-learn.org/1.6/modules/generated/sklearn.decomposition.PCA.html\">?<span>Documentation for PCA</span></a><span class=\"sk-estimator-doc-link fitted\">i<span>Fitted</span></span></div></label><div class=\"sk-toggleable__content fitted\"><pre>PCA()</pre></div> </div></div></div></div>"
            ]
          },
          "metadata": {},
          "execution_count": 100
        }
      ]
    },
    {
      "cell_type": "code",
      "source": [
        "PCs = pca.fit_transform(normalized_df)\n",
        "PCs"
      ],
      "metadata": {
        "colab": {
          "base_uri": "https://localhost:8080/"
        },
        "id": "WlaWPCyTqXwT",
        "outputId": "65be6195-0295-4b90-800d-bd8726807035"
      },
      "execution_count": 102,
      "outputs": [
        {
          "output_type": "execute_result",
          "data": {
            "text/plain": [
              "array([[ 0.06811835, -1.35436199, -0.37379029, ...,  0.42366099,\n",
              "         0.37526524,  0.02856033],\n",
              "       [ 2.82273088, -0.20335105,  1.09048935, ..., -0.71636973,\n",
              "         0.09374287,  0.19055037],\n",
              "       [ 1.15937166,  0.80955518,  1.66401675, ...,  0.22469372,\n",
              "        -0.29728933, -0.45356659],\n",
              "       ...,\n",
              "       [ 1.92410806,  1.89621003, -1.20603886, ..., -0.45549745,\n",
              "         0.11471191, -0.39582077],\n",
              "       [ 0.55460079, -3.00249023, -1.44749119, ...,  0.4557423 ,\n",
              "         0.09126701,  0.15708191],\n",
              "       [ 2.85319068, -1.02466287, -1.78178384, ...,  0.31732687,\n",
              "        -0.26136247, -0.42059548]])"
            ]
          },
          "metadata": {},
          "execution_count": 102
        }
      ]
    },
    {
      "cell_type": "code",
      "source": [
        "np.corrcoef(PCs.T) #1s on the diagonal, check"
      ],
      "metadata": {
        "colab": {
          "base_uri": "https://localhost:8080/"
        },
        "id": "_dQyFHQG2FpU",
        "outputId": "82de55f6-f6ad-4791-f89f-19e46aab3c43"
      },
      "execution_count": 107,
      "outputs": [
        {
          "output_type": "execute_result",
          "data": {
            "text/plain": [
              "array([[ 1.00000000e+00,  4.47425356e-16, -1.05729599e-16,\n",
              "        -2.38924370e-16,  1.16694328e-16, -1.53778038e-16,\n",
              "        -6.11709314e-16, -3.70399109e-16,  3.01350752e-16,\n",
              "        -8.60949005e-17, -6.41464127e-16, -4.21576617e-16],\n",
              "       [ 4.47425356e-16,  1.00000000e+00, -3.81538319e-16,\n",
              "         1.91338198e-16, -3.91434080e-16,  9.22906384e-17,\n",
              "         1.13375394e-16,  1.31461746e-16,  8.22211859e-17,\n",
              "         7.79028745e-16, -3.74283992e-17, -9.07206863e-16],\n",
              "       [-1.05729599e-16, -3.81538319e-16,  1.00000000e+00,\n",
              "         4.74381576e-16,  2.03372327e-16, -2.07413259e-16,\n",
              "         2.19826566e-17, -9.08257347e-16, -3.18574873e-16,\n",
              "         1.30009132e-15, -1.11240850e-15,  9.71015981e-16],\n",
              "       [-2.38924370e-16,  1.91338198e-16,  4.74381576e-16,\n",
              "         1.00000000e+00, -1.43679406e-16, -1.58601790e-16,\n",
              "         3.23901119e-16,  2.34884626e-16, -2.93637260e-16,\n",
              "        -1.12914288e-15,  3.31208183e-16,  1.08660987e-15],\n",
              "       [ 1.16694328e-16, -3.91434080e-16,  2.03372327e-16,\n",
              "        -1.43679406e-16,  1.00000000e+00,  7.26290728e-16,\n",
              "        -6.05148804e-16, -1.69237792e-16, -3.20507169e-16,\n",
              "         1.11603178e-16, -3.83294329e-16,  5.64635276e-16],\n",
              "       [-1.53778038e-16,  9.22906384e-17, -2.07413259e-16,\n",
              "        -1.58601790e-16,  7.26290728e-16,  1.00000000e+00,\n",
              "         1.15381626e-16,  3.14998226e-16,  1.65104188e-16,\n",
              "         6.17957803e-16,  1.67255460e-16,  5.65148145e-16],\n",
              "       [-6.11709314e-16,  1.13375394e-16,  2.19826566e-17,\n",
              "         3.23901119e-16, -6.05148804e-16,  1.15381626e-16,\n",
              "         1.00000000e+00, -1.33083207e-15,  1.03585092e-16,\n",
              "         1.12422458e-15,  2.06146906e-15,  2.90201563e-15],\n",
              "       [-3.70399109e-16,  1.31461746e-16, -9.08257347e-16,\n",
              "         2.34884626e-16, -1.69237792e-16,  3.14998226e-16,\n",
              "        -1.33083207e-15,  1.00000000e+00, -2.76798965e-16,\n",
              "        -6.58258592e-16, -2.46756088e-15,  4.89486759e-16],\n",
              "       [ 3.01350752e-16,  8.22211859e-17, -3.18574873e-16,\n",
              "        -2.93637260e-16, -3.20507169e-16,  1.65104188e-16,\n",
              "         1.03585092e-16, -2.76798965e-16,  1.00000000e+00,\n",
              "        -1.01679614e-15,  4.20677681e-15, -4.86236773e-16],\n",
              "       [-8.60949005e-17,  7.79028745e-16,  1.30009132e-15,\n",
              "        -1.12914288e-15,  1.11603178e-16,  6.17957803e-16,\n",
              "         1.12422458e-15, -6.58258592e-16, -1.01679614e-15,\n",
              "         1.00000000e+00,  1.39293023e-15,  1.00308979e-15],\n",
              "       [-6.41464127e-16, -3.74283992e-17, -1.11240850e-15,\n",
              "         3.31208183e-16, -3.83294329e-16,  1.67255460e-16,\n",
              "         2.06146906e-15, -2.46756088e-15,  4.20677681e-15,\n",
              "         1.39293023e-15,  1.00000000e+00, -1.89412073e-15],\n",
              "       [-4.21576617e-16, -9.07206863e-16,  9.71015981e-16,\n",
              "         1.08660987e-15,  5.64635276e-16,  5.65148145e-16,\n",
              "         2.90201563e-15,  4.89486759e-16, -4.86236773e-16,\n",
              "         1.00308979e-15, -1.89412073e-15,  1.00000000e+00]])"
            ]
          },
          "metadata": {},
          "execution_count": 107
        }
      ]
    },
    {
      "cell_type": "code",
      "source": [
        "np.var(PCs[:,0]), np.var(PCs[:,1]), np.var(PCs[:,2]) #decreasing principal components, check"
      ],
      "metadata": {
        "colab": {
          "base_uri": "https://localhost:8080/"
        },
        "id": "5hnTu4Rx2P5A",
        "outputId": "af90fa2b-96bb-436f-a0ae-6d09111f6f42"
      },
      "execution_count": 109,
      "outputs": [
        {
          "output_type": "execute_result",
          "data": {
            "text/plain": [
              "(2.64222382006353, 2.395338177260015, 1.7698709652164715)"
            ]
          },
          "metadata": {},
          "execution_count": 109
        }
      ]
    },
    {
      "cell_type": "code",
      "source": [
        "pca.explained_variance_ratio_ #maybe the last 3 would be considered noise?"
      ],
      "metadata": {
        "colab": {
          "base_uri": "https://localhost:8080/"
        },
        "id": "Ovblvxe_22Ip",
        "outputId": "17a0a94e-6d4b-475d-a10c-0e35a28ba4fb"
      },
      "execution_count": 112,
      "outputs": [
        {
          "output_type": "execute_result",
          "data": {
            "text/plain": [
              "array([0.22036714, 0.19977635, 0.14761104, 0.12163033, 0.08285958,\n",
              "       0.06800105, 0.05362539, 0.04156415, 0.03949789, 0.01391352,\n",
              "       0.00588629, 0.00526727])"
            ]
          },
          "metadata": {},
          "execution_count": 112
        }
      ]
    },
    {
      "cell_type": "code",
      "source": [
        "w = ls_copy == 0\n",
        "u = ls_copy == 1"
      ],
      "metadata": {
        "id": "lTJeNcgX5vUl"
      },
      "execution_count": 116,
      "outputs": []
    },
    {
      "cell_type": "code",
      "source": [
        "plt.scatter(PCs[:,0][w],PCs[:,1][w],s=10,alpha=1,c='orchid',label='No landslide')\n",
        "plt.scatter(PCs[:,0][u],PCs[:,1][u],s=10,alpha=0.7,c='steelblue',label='Yes landslide')\n",
        "plt.xlabel('PC1')\n",
        "plt.ylabel('PC2')\n",
        "plt.legend();"
      ],
      "metadata": {
        "colab": {
          "base_uri": "https://localhost:8080/",
          "height": 445
        },
        "id": "Kh3_W0Kl3BXA",
        "outputId": "f5f47fff-6b0d-45be-eb35-4cb91dbe6e9c"
      },
      "execution_count": 136,
      "outputs": [
        {
          "output_type": "display_data",
          "data": {
            "text/plain": [
              "<Figure size 640x480 with 1 Axes>"
            ],
            "image/png": "[encoded data removed]"
          },
          "metadata": {}
        }
      ]
    },
    {
      "cell_type": "markdown",
      "source": [
        "There aren't any super strong trends. However, I'm inclined to argue that the data with landslides tend to have lower PC1 and PC2 values on average, as we can see a good amount of points below PC1&PC2 = 0."
      ],
      "metadata": {
        "id": "HYHpNY519O4M"
      }
    },
    {
      "cell_type": "code",
      "source": [
        "#curiosity check\n",
        "PCs[:,0][w].mean(),PCs[:,1][w].mean()"
      ],
      "metadata": {
        "colab": {
          "base_uri": "https://localhost:8080/"
        },
        "id": "oMK64iNK9OX5",
        "outputId": "1bb4f7a8-8105-4e18-dc54-2c4a7118eb7a"
      },
      "execution_count": 140,
      "outputs": [
        {
          "output_type": "execute_result",
          "data": {
            "text/plain": [
              "(0.1824971309124847, 0.3377005063565443)"
            ]
          },
          "metadata": {},
          "execution_count": 140
        }
      ]
    },
    {
      "cell_type": "code",
      "source": [
        "PCs[:,0][u].mean(),PCs[:,1][u].mean() #This is interesting. Suggests symmetry in the data distribution?"
      ],
      "metadata": {
        "colab": {
          "base_uri": "https://localhost:8080/"
        },
        "id": "CQQ1Sfpm5ca7",
        "outputId": "a48a2906-7c75-47b9-e9eb-c227abb942ba"
      },
      "execution_count": 142,
      "outputs": [
        {
          "output_type": "execute_result",
          "data": {
            "text/plain": [
              "(-0.18249713091248482, -0.3377005063565443)"
            ]
          },
          "metadata": {},
          "execution_count": 142
        }
      ]
    },
    {
      "cell_type": "code",
      "source": [
        "var_ratio = pca.explained_variance_ratio_\n",
        "x = np.arange(0,12,1) + 1\n",
        "plt.scatter(x,var_ratio)\n",
        "plt.plot(x,var_ratio)\n",
        "plt.xlabel('PC #')\n",
        "plt.ylabel('Percent Explained Variance');"
      ],
      "metadata": {
        "colab": {
          "base_uri": "https://localhost:8080/",
          "height": 445
        },
        "outputId": "9f70803c-468b-4c28-b76d-2ffd073ed068",
        "id": "Id6mCOmQBo8T"
      },
      "execution_count": 153,
      "outputs": [
        {
          "output_type": "display_data",
          "data": {
            "text/plain": [
              "<Figure size 640x480 with 1 Axes>"
            ],
            "image/png": "[encoded data removed]"
          },
          "metadata": {}
        }
      ]
    },
    {
      "cell_type": "code",
      "source": [
        "print(np.sum(var_ratio[0:7]))\n",
        "print(np.sum(var_ratio[0:8]))\n",
        "print(f'Number of PCs to reach 90%: {len(var_ratio[0:7])} ~89%')\n",
        "print(f'If precision matters then.. {len(var_ratio[0:8])} PCs ~94%')"
      ],
      "metadata": {
        "colab": {
          "base_uri": "https://localhost:8080/"
        },
        "id": "Wk9tGNlOBxNj",
        "outputId": "799fffb1-85a7-4e41-c40d-693441561af2"
      },
      "execution_count": 166,
      "outputs": [
        {
          "output_type": "stream",
          "name": "stdout",
          "text": [
            "0.8938708692918668\n",
            "0.9354350229216564\n",
            "Number of PCs to reach 90%: 7 ~89%\n",
            "If precision matters then.. 8 PCs ~94%\n"
          ]
        }
      ]
    },
    {
      "cell_type": "code",
      "source": [],
      "metadata": {
        "id": "M_d81NWfDMiJ"
      },
      "execution_count": null,
      "outputs": []
    }
  ],
  "metadata": {
    "colab": {
      "provenance": [],
      "include_colab_link": true
    },
    "kernelspec": {
      "display_name": "Python 3 (ipykernel)",
      "language": "python",
      "name": "python3"
    },
    "language_info": {
      "codemirror_mode": {
        "name": "ipython",
        "version": 3
      },
      "file_extension": ".py",
      "mimetype": "text/x-python",
      "name": "python",
      "nbconvert_exporter": "python",
      "pygments_lexer": "ipython3",
      "version": "3.9.7"
    }
  },
  "nbformat": 4,
  "nbformat_minor": 0
}